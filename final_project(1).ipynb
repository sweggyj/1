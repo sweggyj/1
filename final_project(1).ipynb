{
 "metadata": {
  "language_info": {
   "codemirror_mode": {
    "name": "ipython",
    "version": 3
   },
   "file_extension": ".py",
   "mimetype": "text/x-python",
   "name": "python",
   "nbconvert_exporter": "python",
   "pygments_lexer": "ipython3",
   "version": "3.6.12-final"
  },
  "orig_nbformat": 2,
  "kernelspec": {
   "name": "python3",
   "display_name": "Python 3.6.12 64-bit ('cis432': conda)",
   "metadata": {
    "interpreter": {
     "hash": "d63be99b4fecf98bfe74206ab1e738dcd7fb809de31d2f6fa0c99583e013cbe0"
    }
   }
  }
 },
 "nbformat": 4,
 "nbformat_minor": 2,
 "cells": [
  {
   "source": [
    "# Import Packages\n"
   ],
   "cell_type": "markdown",
   "metadata": {}
  },
  {
   "cell_type": "code",
   "execution_count": 1,
   "metadata": {},
   "outputs": [],
   "source": [
    "import pandas as pd\n",
    "import numpy as np\n",
    "import pickle\n",
    "from sklearn import tree\n",
    "from sklearn.linear_model import LogisticRegression\n",
    "from sklearn.model_selection import train_test_split\n",
    "from sklearn.model_selection import train_test_split\n",
    "from sklearn.compose import ColumnTransformer\n",
    "from sklearn.impute import SimpleImputer\n",
    "from sklearn.pipeline import FeatureUnion\n",
    "from sklearn.impute import MissingIndicator\n",
    "from sklearn.pipeline import Pipeline"
   ]
  },
  {
   "source": [
    "# Preprocessing"
   ],
   "cell_type": "markdown",
   "metadata": {}
  },
  {
   "cell_type": "code",
   "execution_count": 2,
   "metadata": {},
   "outputs": [
    {
     "output_type": "stream",
     "name": "stdout",
     "text": [
      "(10459, 24)\n"
     ]
    },
    {
     "output_type": "execute_result",
     "data": {
      "text/plain": [
       "  RiskPerformance  ExternalRiskEstimate  MSinceOldestTradeOpen  \\\n",
       "0             Bad                    55                    144   \n",
       "1             Bad                    61                     58   \n",
       "2             Bad                    67                     66   \n",
       "3             Bad                    66                    169   \n",
       "4             Bad                    81                    333   \n",
       "\n",
       "   MSinceMostRecentTradeOpen  AverageMInFile  NumSatisfactoryTrades  \\\n",
       "0                          4              84                     20   \n",
       "1                         15              41                      2   \n",
       "2                          5              24                      9   \n",
       "3                          1              73                     28   \n",
       "4                         27             132                     12   \n",
       "\n",
       "   NumTrades60Ever2DerogPubRec  NumTrades90Ever2DerogPubRec  \\\n",
       "0                            3                            0   \n",
       "1                            4                            4   \n",
       "2                            0                            0   \n",
       "3                            1                            1   \n",
       "4                            0                            0   \n",
       "\n",
       "   PercentTradesNeverDelq  MSinceMostRecentDelq  ...  PercentInstallTrades  \\\n",
       "0                      83                     2  ...                    43   \n",
       "1                     100                    -7  ...                    67   \n",
       "2                     100                    -7  ...                    44   \n",
       "3                      93                    76  ...                    57   \n",
       "4                     100                    -7  ...                    25   \n",
       "\n",
       "   MSinceMostRecentInqexcl7days  NumInqLast6M  NumInqLast6Mexcl7days  \\\n",
       "0                             0             0                      0   \n",
       "1                             0             0                      0   \n",
       "2                             0             4                      4   \n",
       "3                             0             5                      4   \n",
       "4                             0             1                      1   \n",
       "\n",
       "   NetFractionRevolvingBurden  NetFractionInstallBurden  \\\n",
       "0                          33                        -8   \n",
       "1                           0                        -8   \n",
       "2                          53                        66   \n",
       "3                          72                        83   \n",
       "4                          51                        89   \n",
       "\n",
       "   NumRevolvingTradesWBalance  NumInstallTradesWBalance  \\\n",
       "0                           8                         1   \n",
       "1                           0                        -8   \n",
       "2                           4                         2   \n",
       "3                           6                         4   \n",
       "4                           3                         1   \n",
       "\n",
       "   NumBank2NatlTradesWHighUtilization  PercentTradesWBalance  \n",
       "0                                   1                     69  \n",
       "1                                  -8                      0  \n",
       "2                                   1                     86  \n",
       "3                                   3                     91  \n",
       "4                                   0                     80  \n",
       "\n",
       "[5 rows x 24 columns]"
      ],
      "text/html": "<div>\n<style scoped>\n    .dataframe tbody tr th:only-of-type {\n        vertical-align: middle;\n    }\n\n    .dataframe tbody tr th {\n        vertical-align: top;\n    }\n\n    .dataframe thead th {\n        text-align: right;\n    }\n</style>\n<table border=\"1\" class=\"dataframe\">\n  <thead>\n    <tr style=\"text-align: right;\">\n      <th></th>\n      <th>RiskPerformance</th>\n      <th>ExternalRiskEstimate</th>\n      <th>MSinceOldestTradeOpen</th>\n      <th>MSinceMostRecentTradeOpen</th>\n      <th>AverageMInFile</th>\n      <th>NumSatisfactoryTrades</th>\n      <th>NumTrades60Ever2DerogPubRec</th>\n      <th>NumTrades90Ever2DerogPubRec</th>\n      <th>PercentTradesNeverDelq</th>\n      <th>MSinceMostRecentDelq</th>\n      <th>...</th>\n      <th>PercentInstallTrades</th>\n      <th>MSinceMostRecentInqexcl7days</th>\n      <th>NumInqLast6M</th>\n      <th>NumInqLast6Mexcl7days</th>\n      <th>NetFractionRevolvingBurden</th>\n      <th>NetFractionInstallBurden</th>\n      <th>NumRevolvingTradesWBalance</th>\n      <th>NumInstallTradesWBalance</th>\n      <th>NumBank2NatlTradesWHighUtilization</th>\n      <th>PercentTradesWBalance</th>\n    </tr>\n  </thead>\n  <tbody>\n    <tr>\n      <th>0</th>\n      <td>Bad</td>\n      <td>55</td>\n      <td>144</td>\n      <td>4</td>\n      <td>84</td>\n      <td>20</td>\n      <td>3</td>\n      <td>0</td>\n      <td>83</td>\n      <td>2</td>\n      <td>...</td>\n      <td>43</td>\n      <td>0</td>\n      <td>0</td>\n      <td>0</td>\n      <td>33</td>\n      <td>-8</td>\n      <td>8</td>\n      <td>1</td>\n      <td>1</td>\n      <td>69</td>\n    </tr>\n    <tr>\n      <th>1</th>\n      <td>Bad</td>\n      <td>61</td>\n      <td>58</td>\n      <td>15</td>\n      <td>41</td>\n      <td>2</td>\n      <td>4</td>\n      <td>4</td>\n      <td>100</td>\n      <td>-7</td>\n      <td>...</td>\n      <td>67</td>\n      <td>0</td>\n      <td>0</td>\n      <td>0</td>\n      <td>0</td>\n      <td>-8</td>\n      <td>0</td>\n      <td>-8</td>\n      <td>-8</td>\n      <td>0</td>\n    </tr>\n    <tr>\n      <th>2</th>\n      <td>Bad</td>\n      <td>67</td>\n      <td>66</td>\n      <td>5</td>\n      <td>24</td>\n      <td>9</td>\n      <td>0</td>\n      <td>0</td>\n      <td>100</td>\n      <td>-7</td>\n      <td>...</td>\n      <td>44</td>\n      <td>0</td>\n      <td>4</td>\n      <td>4</td>\n      <td>53</td>\n      <td>66</td>\n      <td>4</td>\n      <td>2</td>\n      <td>1</td>\n      <td>86</td>\n    </tr>\n    <tr>\n      <th>3</th>\n      <td>Bad</td>\n      <td>66</td>\n      <td>169</td>\n      <td>1</td>\n      <td>73</td>\n      <td>28</td>\n      <td>1</td>\n      <td>1</td>\n      <td>93</td>\n      <td>76</td>\n      <td>...</td>\n      <td>57</td>\n      <td>0</td>\n      <td>5</td>\n      <td>4</td>\n      <td>72</td>\n      <td>83</td>\n      <td>6</td>\n      <td>4</td>\n      <td>3</td>\n      <td>91</td>\n    </tr>\n    <tr>\n      <th>4</th>\n      <td>Bad</td>\n      <td>81</td>\n      <td>333</td>\n      <td>27</td>\n      <td>132</td>\n      <td>12</td>\n      <td>0</td>\n      <td>0</td>\n      <td>100</td>\n      <td>-7</td>\n      <td>...</td>\n      <td>25</td>\n      <td>0</td>\n      <td>1</td>\n      <td>1</td>\n      <td>51</td>\n      <td>89</td>\n      <td>3</td>\n      <td>1</td>\n      <td>0</td>\n      <td>80</td>\n    </tr>\n  </tbody>\n</table>\n<p>5 rows × 24 columns</p>\n</div>"
     },
     "metadata": {},
     "execution_count": 2
    }
   ],
   "source": [
    "# Load the sample data\n",
    "data = pd.read_csv('heloc_dataset_v1.csv')\n",
    "df = pd.DataFrame(data)\n",
    "print(df.shape)\n",
    "\n",
    "# Max and minimal value of each feature\n",
    "dfmn = pd.DataFrame([df.max(),df.min()])\n",
    "\n",
    "df.head()"
   ]
  },
  {
   "cell_type": "code",
   "execution_count": 3,
   "metadata": {},
   "outputs": [
    {
     "output_type": "stream",
     "name": "stdout",
     "text": [
      "       ExternalRiskEstimate  MSinceOldestTradeOpen  MSinceMostRecentTradeOpen  \\\n0                        55                    144                          4   \n1                        61                     58                         15   \n2                        67                     66                          5   \n3                        66                    169                          1   \n4                        81                    333                         27   \n...                     ...                    ...                        ...   \n10454                    73                    131                          5   \n10455                    65                    147                         39   \n10456                    74                    129                          6   \n10457                    72                    234                         12   \n10458                    66                     28                          1   \n\n       AverageMInFile  NumSatisfactoryTrades  NumTrades60Ever2DerogPubRec  \\\n0                  84                     20                            3   \n1                  41                      2                            4   \n2                  24                      9                            0   \n3                  73                     28                            1   \n4                 132                     12                            0   \n...               ...                    ...                          ...   \n10454              57                     21                            0   \n10455              68                     11                            0   \n10456              64                     18                            1   \n10457             113                     42                            2   \n10458              17                      4                            0   \n\n       NumTrades90Ever2DerogPubRec  PercentTradesNeverDelq  \\\n0                                0                      83   \n1                                4                     100   \n2                                0                     100   \n3                                1                      93   \n4                                0                     100   \n...                            ...                     ...   \n10454                            0                      95   \n10455                            0                      92   \n10456                            1                     100   \n10457                            2                      96   \n10458                            0                     100   \n\n       MSinceMostRecentDelq  MaxDelq2PublicRecLast12M  ...  \\\n0                         2                         3  ...   \n1                        -7                         0  ...   \n2                        -7                         7  ...   \n3                        76                         6  ...   \n4                        -7                         7  ...   \n...                     ...                       ...  ...   \n10454                    80                         6  ...   \n10455                    28                         6  ...   \n10456                    -7                         6  ...   \n10457                    35                         6  ...   \n10458                    -7                         7  ...   \n\n       PercentInstallTrades  MSinceMostRecentInqexcl7days  NumInqLast6M  \\\n0                        43                             0             0   \n1                        67                             0             0   \n2                        44                             0             4   \n3                        57                             0             5   \n4                        25                             0             1   \n...                     ...                           ...           ...   \n10454                    19                             7             0   \n10455                    42                             1             1   \n10456                    33                             3             4   \n10457                    20                             6             0   \n10458                    60                             3             3   \n\n       NumInqLast6Mexcl7days  NetFractionRevolvingBurden  \\\n0                          0                          33   \n1                          0                           0   \n2                          4                          53   \n3                          4                          72   \n4                          1                          51   \n...                      ...                         ...   \n10454                      0                          26   \n10455                      1                          86   \n10456                      4                           6   \n10457                      0                          19   \n10458                      2                          67   \n\n       NetFractionInstallBurden  NumRevolvingTradesWBalance  \\\n0                            -8                           8   \n1                            -8                           0   \n2                            66                           4   \n3                            83                           6   \n4                            89                           3   \n...                         ...                         ...   \n10454                        -8                           5   \n10455                        53                           2   \n10456                        -8                           5   \n10457                        -8                           4   \n10458                        -8                           2   \n\n       NumInstallTradesWBalance  NumBank2NatlTradesWHighUtilization  \\\n0                             1                                   1   \n1                            -8                                  -8   \n2                             2                                   1   \n3                             4                                   3   \n4                             1                                   0   \n...                         ...                                 ...   \n10454                         2                                   0   \n10455                         2                                   1   \n10456                        -8                                   0   \n10457                         1                                   0   \n10458                         1                                   0   \n\n       PercentTradesWBalance  \n0                         69  \n1                          0  \n2                         86  \n3                         91  \n4                         80  \n...                      ...  \n10454                    100  \n10455                     80  \n10456                     56  \n10457                     38  \n10458                    100  \n\n[10459 rows x 23 columns]\n"
     ]
    }
   ],
   "source": [
    "#Preprocess data\n",
    "\n",
    "#define features\n",
    "X = df.iloc[:,1:24]\n",
    "\n",
    "#define labels\n",
    "Y = df.iloc[:,0]\n",
    "\n",
    "print(X)"
   ]
  },
  {
   "cell_type": "code",
   "execution_count": 4,
   "metadata": {},
   "outputs": [],
   "source": [
    "#split to train and validation\n",
    "x_train, x_validation, y_train, y_validation = train_test_split(X, Y, test_size=0.2,random_state=1000)"
   ]
  },
  {
   "cell_type": "code",
   "execution_count": 5,
   "metadata": {},
   "outputs": [],
   "source": [
    "#get rid of -9 because it means no record\n",
    "#update Y\n",
    "y_train = y_train[x_train['ExternalRiskEstimate'] != -9]\n",
    "y_validation = y_validation[x_validation['ExternalRiskEstimate'] != -9]\n",
    "\n",
    "#update X\n",
    "x_train = x_train[x_train['ExternalRiskEstimate'] != -9]\n",
    "x_validation = x_validation[x_validation['ExternalRiskEstimate'] != -9]"
   ]
  },
  {
   "cell_type": "code",
   "execution_count": 6,
   "metadata": {},
   "outputs": [
    {
     "output_type": "execute_result",
     "data": {
      "text/plain": [
       "0"
      ]
     },
     "metadata": {},
     "execution_count": 6
    }
   ],
   "source": [
    "# check missing values (-7, -8)\n",
    "len(x_train[(x_train.iloc[:,0] == -7) | (x_train.iloc[:,0] == -8)])\n",
    "\n",
    "\n"
   ]
  },
  {
   "source": [
    "# Train Models"
   ],
   "cell_type": "markdown",
   "metadata": {}
  },
  {
   "cell_type": "code",
   "execution_count": 7,
   "metadata": {},
   "outputs": [
    {
     "output_type": "execute_result",
     "data": {
      "text/plain": [
       "LogisticRegression(max_iter=10000)"
      ]
     },
     "metadata": {},
     "execution_count": 7
    }
   ],
   "source": [
    "#linear model\n",
    "# Fit the model on training set\n",
    "linear_model_1 = LogisticRegression(max_iter=10000, multi_class='auto', solver='lbfgs')\n",
    "linear_model_1.fit(x_train, y_train)"
   ]
  },
  {
   "source": [
    "# Save Models"
   ],
   "cell_type": "markdown",
   "metadata": {}
  },
  {
   "cell_type": "code",
   "execution_count": 8,
   "metadata": {},
   "outputs": [
    {
     "output_type": "error",
     "ename": "NameError",
     "evalue": "name 'model' is not defined",
     "traceback": [
      "\u001b[0;31m---------------------------------------------------------------------------\u001b[0m",
      "\u001b[0;31mNameError\u001b[0m                                 Traceback (most recent call last)",
      "\u001b[0;32m<ipython-input-8-19419dc6dd77>\u001b[0m in \u001b[0;36m<module>\u001b[0;34m\u001b[0m\n\u001b[1;32m      3\u001b[0m \u001b[0;31m# pickle.dump(model, open(filename, 'wb'))\u001b[0m\u001b[0;34m\u001b[0m\u001b[0;34m\u001b[0m\u001b[0;34m\u001b[0m\u001b[0m\n\u001b[1;32m      4\u001b[0m \u001b[0;32mwith\u001b[0m \u001b[0mopen\u001b[0m\u001b[0;34m(\u001b[0m\u001b[0mfilename\u001b[0m\u001b[0;34m,\u001b[0m\u001b[0;34m'wb'\u001b[0m\u001b[0;34m)\u001b[0m \u001b[0;32mas\u001b[0m \u001b[0mfp\u001b[0m\u001b[0;34m:\u001b[0m\u001b[0;34m\u001b[0m\u001b[0;34m\u001b[0m\u001b[0m\n\u001b[0;32m----> 5\u001b[0;31m     \u001b[0mpickle\u001b[0m\u001b[0;34m.\u001b[0m\u001b[0mdump\u001b[0m\u001b[0;34m(\u001b[0m\u001b[0mmodel\u001b[0m\u001b[0;34m,\u001b[0m\u001b[0mfp\u001b[0m\u001b[0;34m)\u001b[0m\u001b[0;34m\u001b[0m\u001b[0;34m\u001b[0m\u001b[0m\n\u001b[0m",
      "\u001b[0;31mNameError\u001b[0m: name 'model' is not defined"
     ]
    }
   ],
   "source": [
    "# save the model to disk\n",
    "filename = 'finalized_model.sav'\n",
    "# pickle.dump(model, open(filename, 'wb'))\n",
    "with open(filename,'wb') as fp:\n",
    "    pickle.dump(linear_model_1,fp)"
   ]
  }
 ]
}